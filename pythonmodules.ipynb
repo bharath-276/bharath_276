{
 "cells": [
  {
   "cell_type": "code",
   "execution_count": 6,
   "id": "4d13aa15-6cf7-403b-9ab4-919d988ddce6",
   "metadata": {},
   "outputs": [],
   "source": [
    "def mean_value(*n):\n",
    "    sum = 0\n",
    "    counter = 0\n",
    "    for x in n:\n",
    "        counter = counter +1\n",
    "        sum += x\n",
    "    mean = sum/counter\n",
    "    return mean\n"
   ]
  },
  {
   "cell_type": "code",
   "execution_count": 9,
   "id": "57c2c30f-a0e7-4553-b49c-dea1b4eab389",
   "metadata": {},
   "outputs": [],
   "source": [
    "def product(*n):\n",
    "    result = 1\n",
    "    for i in range(len(n)):\n",
    "        result *= n[1]\n",
    "    return result "
   ]
  },
  {
   "cell_type": "code",
   "execution_count": 10,
   "id": "704c6cc8-debb-4460-843c-0c7feefc620b",
   "metadata": {},
   "outputs": [
    {
     "data": {
      "text/plain": [
       "2025"
      ]
     },
     "execution_count": 10,
     "metadata": {},
     "output_type": "execute_result"
    }
   ],
   "source": [
    "product(23,45)"
   ]
  },
  {
   "cell_type": "code",
   "execution_count": 11,
   "id": "5c8d5972-2aad-4e07-ac90-4543968bb7cc",
   "metadata": {},
   "outputs": [
    {
     "data": {
      "text/plain": [
       "33.0"
      ]
     },
     "execution_count": 11,
     "metadata": {},
     "output_type": "execute_result"
    }
   ],
   "source": [
    "mean_value(23,43,33)"
   ]
  },
  {
   "cell_type": "code",
   "execution_count": null,
   "id": "5a115e38-635c-4715-862d-725bfa1b1718",
   "metadata": {},
   "outputs": [],
   "source": []
  }
 ],
 "metadata": {
  "kernelspec": {
   "display_name": "Python 3 (ipykernel)",
   "language": "python",
   "name": "python3"
  },
  "language_info": {
   "codemirror_mode": {
    "name": "ipython",
    "version": 3
   },
   "file_extension": ".py",
   "mimetype": "text/x-python",
   "name": "python",
   "nbconvert_exporter": "python",
   "pygments_lexer": "ipython3",
   "version": "3.12.7"
  }
 },
 "nbformat": 4,
 "nbformat_minor": 5
}
