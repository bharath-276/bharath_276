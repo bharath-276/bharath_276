{
 "cells": [
  {
   "cell_type": "code",
   "execution_count": 2,
   "id": "92105dd2-d908-4cc9-a668-4dab1dd8726b",
   "metadata": {},
   "outputs": [
    {
     "name": "stdout",
     "output_type": "stream",
     "text": [
      "{2, 3, 4, 34, 5}\n",
      "<class 'set'>\n"
     ]
    }
   ],
   "source": [
    "#set\n",
    "s1={2,3,34,4,5,5,}\n",
    "print(s1)\n",
    "print(type(s1))"
   ]
  },
  {
   "cell_type": "code",
   "execution_count": 4,
   "id": "edf4f180-8c53-406e-b889-0d9982000ea5",
   "metadata": {},
   "outputs": [
    {
     "name": "stdout",
     "output_type": "stream",
     "text": [
      "{1, 2, 3, 4, 5, 6}\n",
      "<class 'set'>\n"
     ]
    }
   ],
   "source": [
    "list1=[1,2,3,4,4,5,6]\n",
    "s2 = set(list1)\n",
    "print(s2)\n",
    "print(type(s2))"
   ]
  },
  {
   "cell_type": "code",
   "execution_count": 8,
   "id": "ffb79e43-1a4c-4f77-aa46-f1717da23413",
   "metadata": {},
   "outputs": [
    {
     "data": {
      "text/plain": [
       "{1, 2, 3, 4, 5}"
      ]
     },
     "execution_count": 8,
     "metadata": {},
     "output_type": "execute_result"
    }
   ],
   "source": [
    "s1 = {1,2,3,4}\n",
    "s2 = {3,4,5,5}\n",
    "s1 | s2\n",
    "#union operation"
   ]
  },
  {
   "cell_type": "code",
   "execution_count": 7,
   "id": "7e9e0584-06bb-487c-8f62-1684242bf1b1",
   "metadata": {},
   "outputs": [
    {
     "data": {
      "text/plain": [
       "{3, 4}"
      ]
     },
     "execution_count": 7,
     "metadata": {},
     "output_type": "execute_result"
    }
   ],
   "source": [
    "s1 = {1,2,3,4}\n",
    "s2 = {3,4,5,5}\n",
    "s1 & s2\n",
    "#inter section"
   ]
  },
  {
   "cell_type": "code",
   "execution_count": 10,
   "id": "74d70046-c28c-4316-89b2-591c63f594c0",
   "metadata": {},
   "outputs": [
    {
     "data": {
      "text/plain": [
       "{1, 2}"
      ]
     },
     "execution_count": 10,
     "metadata": {},
     "output_type": "execute_result"
    }
   ],
   "source": [
    "s1 = {1,2,3,4}\n",
    "s2 = {3,4,5,5}\n",
    "s1 - s2\n",
    "# difference of set "
   ]
  },
  {
   "cell_type": "code",
   "execution_count": 15,
   "id": "31e8c2e1-aced-4ab3-8348-fdf3be082ba9",
   "metadata": {},
   "outputs": [
    {
     "data": {
      "text/plain": [
       "{5}"
      ]
     },
     "execution_count": 15,
     "metadata": {},
     "output_type": "execute_result"
    }
   ],
   "source": [
    "s1 = {1,2,3,4}\n",
    "s2 = {3,4,5,5}\n",
    "s2 - s1 # difference "
   ]
  },
  {
   "cell_type": "code",
   "execution_count": 2,
   "id": "0718ab6c-43f9-4758-a924-d034e9a9c588",
   "metadata": {},
   "outputs": [
    {
     "ename": "AttributeError",
     "evalue": "'set' object has no attribute 'symmetricdifference'",
     "output_type": "error",
     "traceback": [
      "\u001b[1;31m---------------------------------------------------------------------------\u001b[0m",
      "\u001b[1;31mAttributeError\u001b[0m                            Traceback (most recent call last)",
      "Cell \u001b[1;32mIn[2], line 3\u001b[0m\n\u001b[0;32m      1\u001b[0m s1 \u001b[38;5;241m=\u001b[39m {\u001b[38;5;241m1\u001b[39m,\u001b[38;5;241m2\u001b[39m,\u001b[38;5;241m3\u001b[39m,\u001b[38;5;241m4\u001b[39m}\n\u001b[0;32m      2\u001b[0m s2 \u001b[38;5;241m=\u001b[39m {\u001b[38;5;241m3\u001b[39m,\u001b[38;5;241m4\u001b[39m,\u001b[38;5;241m5\u001b[39m,\u001b[38;5;241m5\u001b[39m}\n\u001b[1;32m----> 3\u001b[0m s1\u001b[38;5;241m.\u001b[39msymmetricdifference(s2)\n",
      "\u001b[1;31mAttributeError\u001b[0m: 'set' object has no attribute 'symmetricdifference'"
     ]
    }
   ],
   "source": [
    "s1 = {1,2,3,4}\n",
    "s2 = {3,4,5,5}\n",
    "s1.symmetricdifference(s2)"
   ]
  },
  {
   "cell_type": "code",
   "execution_count": 6,
   "id": "40168397-d316-4e40-ba54-2f7a5f8cbb29",
   "metadata": {},
   "outputs": [
    {
     "name": "stdout",
     "output_type": "stream",
     "text": [
      "welcome to my home\n",
      "hi hello welcome \n",
      "hi hello welcome \n"
     ]
    }
   ],
   "source": [
    "str1 = \"welcome to my home\"\n",
    "print(str1)\n",
    "str2 = \"hi hello welcome \"\n",
    "print(str2)\n",
    "str3 = \"adabbb\"\n",
    "print(str2)\n"
   ]
  },
  {
   "cell_type": "code",
   "execution_count": 7,
   "id": "5b996320-6be7-48cc-b121-4369658d2cde",
   "metadata": {},
   "outputs": [
    {
     "data": {
      "text/plain": [
       "'me to'"
      ]
     },
     "execution_count": 7,
     "metadata": {},
     "output_type": "execute_result"
    }
   ],
   "source": [
    "str1[5:10]"
   ]
  },
  {
   "cell_type": "code",
   "execution_count": 11,
   "id": "62c90e97-fef7-4469-936c-80ac9fbf0dee",
   "metadata": {},
   "outputs": [
    {
     "data": {
      "text/plain": [
       "'The product is awesom ; Great Service'"
      ]
     },
     "execution_count": 11,
     "metadata": {},
     "output_type": "execute_result"
    }
   ],
   "source": [
    "reviews = [\"The product is awesom\",\"Great Service\"]\n",
    "joined_string = ' ; '.join(reviews)\n",
    "joined_string"
   ]
  },
  {
   "cell_type": "code",
   "execution_count": 13,
   "id": "4c767774-849f-4927-a85d-65fd1c3e0438",
   "metadata": {},
   "outputs": [
    {
     "data": {
      "text/plain": [
       "' Hello, How are you'"
      ]
     },
     "execution_count": 13,
     "metadata": {},
     "output_type": "execute_result"
    }
   ],
   "source": [
    "str5 = \" Hello, How are you\"\n",
    "str5\n"
   ]
  },
  {
   "cell_type": "code",
   "execution_count": 14,
   "id": "f6dba52e-acfe-42f0-aef2-4784b72bdd9a",
   "metadata": {},
   "outputs": [
    {
     "data": {
      "text/plain": [
       "'Hello, How are you'"
      ]
     },
     "execution_count": 14,
     "metadata": {},
     "output_type": "execute_result"
    }
   ],
   "source": [
    "str5.strip()"
   ]
  },
  {
   "cell_type": "code",
   "execution_count": 15,
   "id": "625f1f5e-1423-43a4-8e37-3a96dbacaccb",
   "metadata": {},
   "outputs": [
    {
     "data": {
      "text/plain": [
       "' hello, how are you'"
      ]
     },
     "execution_count": 15,
     "metadata": {},
     "output_type": "execute_result"
    }
   ],
   "source": [
    "str5.lower()"
   ]
  },
  {
   "cell_type": "code",
   "execution_count": 16,
   "id": "342f5e5c-d6f3-431e-96e4-bf8d47364943",
   "metadata": {},
   "outputs": [
    {
     "data": {
      "text/plain": [
       "' HELLO, HOW ARE YOU'"
      ]
     },
     "execution_count": 16,
     "metadata": {},
     "output_type": "execute_result"
    }
   ],
   "source": [
    "str5.upper()"
   ]
  },
  {
   "cell_type": "code",
   "execution_count": null,
   "id": "31c0ad4b-955d-40d4-843b-416b80bce898",
   "metadata": {},
   "outputs": [],
   "source": []
  }
 ],
 "metadata": {
  "kernelspec": {
   "display_name": "Python 3 (ipykernel)",
   "language": "python",
   "name": "python3"
  },
  "language_info": {
   "codemirror_mode": {
    "name": "ipython",
    "version": 3
   },
   "file_extension": ".py",
   "mimetype": "text/x-python",
   "name": "python",
   "nbconvert_exporter": "python",
   "pygments_lexer": "ipython3",
   "version": "3.12.7"
  }
 },
 "nbformat": 4,
 "nbformat_minor": 5
}
