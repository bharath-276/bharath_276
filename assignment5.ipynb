{
 "cells": [
  {
   "cell_type": "code",
   "execution_count": 1,
   "id": "de3fabdf-3d59-4d19-b41f-499f25cf6cd0",
   "metadata": {},
   "outputs": [
    {
     "name": "stdin",
     "output_type": "stream",
     "text": [
      "Please enter a positive integer:  4\n"
     ]
    },
    {
     "name": "stdout",
     "output_type": "stream",
     "text": [
      "Numbers from 1 to 4 :\n",
      "1\n",
      "2\n",
      "3\n",
      "4\n",
      "Sum of all numbers from 1 to 4 is: 10\n"
     ]
    }
   ],
   "source": [
    "n = int(input(\"Please enter a positive integer: \"))\n",
    "print(\"Numbers from 1 to\", n, \":\")\n",
    "for i in range(1, n+1):\n",
    "    print(i)\n",
    "sum_of_numbers = 0\n",
    "i = 1\n",
    "while i <= n:\n",
    "    sum_of_numbers += i\n",
    "    i += 1\n",
    "\n",
    "print(\"Sum of all numbers from 1 to\", n, \"is:\", sum_of_numbers)\n"
   ]
  },
  {
   "cell_type": "code",
   "execution_count": 2,
   "id": "e699b247-36d5-4b75-aed6-19852c003338",
   "metadata": {},
   "outputs": [
    {
     "name": "stdin",
     "output_type": "stream",
     "text": [
      "Please enter a positive integer:  6\n"
     ]
    },
    {
     "name": "stdout",
     "output_type": "stream",
     "text": [
      "The square of 6 is: 36\n"
     ]
    }
   ],
   "source": [
    "def calculate_square(n):\n",
    "    return n ** 2\n",
    "n = int(input(\"Please enter a positive integer: \"))\n",
    "\n",
    "result = calculate_square(n)\n",
    "print(f\"The square of {n} is: {result}\")\n"
   ]
  },
  {
   "cell_type": "code",
   "execution_count": null,
   "id": "f5238bd3-0505-4075-9c5e-85a444d6045c",
   "metadata": {},
   "outputs": [],
   "source": []
  }
 ],
 "metadata": {
  "kernelspec": {
   "display_name": "Python 3 (ipykernel)",
   "language": "python",
   "name": "python3"
  },
  "language_info": {
   "codemirror_mode": {
    "name": "ipython",
    "version": 3
   },
   "file_extension": ".py",
   "mimetype": "text/x-python",
   "name": "python",
   "nbconvert_exporter": "python",
   "pygments_lexer": "ipython3",
   "version": "3.12.7"
  }
 },
 "nbformat": 4,
 "nbformat_minor": 5
}
