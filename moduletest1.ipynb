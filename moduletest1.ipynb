{
 "cells": [
  {
   "cell_type": "code",
   "execution_count": 1,
   "id": "79c91634-fd1b-49cf-91fa-5ae0f2002f79",
   "metadata": {},
   "outputs": [],
   "source": [
    "import pythonmodules"
   ]
  },
  {
   "cell_type": "code",
   "execution_count": 2,
   "id": "9ea3d93f-44ec-43fa-a523-a2361e0882f0",
   "metadata": {},
   "outputs": [
    {
     "data": {
      "text/plain": [
       "158.5"
      ]
     },
     "execution_count": 2,
     "metadata": {},
     "output_type": "execute_result"
    }
   ],
   "source": [
    "pythonmodules.mean_value(2,44,55,66,7,777)"
   ]
  },
  {
   "cell_type": "code",
   "execution_count": 3,
   "id": "e02663a7-caa4-49e1-bcab-b287b4b9a91a",
   "metadata": {},
   "outputs": [
    {
     "data": {
      "text/plain": [
       "2401"
      ]
     },
     "execution_count": 3,
     "metadata": {},
     "output_type": "execute_result"
    }
   ],
   "source": [
    "pythonmodules.product(545,7,67,86)"
   ]
  },
  {
   "cell_type": "code",
   "execution_count": null,
   "id": "aa2918b6-11e9-4be3-8eb5-61d4e475998d",
   "metadata": {},
   "outputs": [],
   "source": []
  }
 ],
 "metadata": {
  "kernelspec": {
   "display_name": "Python 3 (ipykernel)",
   "language": "python",
   "name": "python3"
  },
  "language_info": {
   "codemirror_mode": {
    "name": "ipython",
    "version": 3
   },
   "file_extension": ".py",
   "mimetype": "text/x-python",
   "name": "python",
   "nbconvert_exporter": "python",
   "pygments_lexer": "ipython3",
   "version": "3.12.7"
  }
 },
 "nbformat": 4,
 "nbformat_minor": 5
}
