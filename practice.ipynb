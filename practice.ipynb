{
 "cells": [
  {
   "cell_type": "code",
   "execution_count": 4,
   "id": "84c070da-9029-4034-aae3-1263a5412beb",
   "metadata": {},
   "outputs": [
    {
     "name": "stdout",
     "output_type": "stream",
     "text": [
      "[['apple', 10], ['banana', 6], ['cherry', 100], ['dragon', 5]]\n"
     ]
    }
   ],
   "source": [
    "orders=[['apple',10],['banana',6],['cherry',8],['dragon',5]]\n",
    "for each in orders:\n",
    "    if each[0]==\"cherry\":\n",
    "        each[1]=100\n",
    "print(orders)        "
   ]
  },
  {
   "cell_type": "code",
   "execution_count": 7,
   "id": "7456f2a5-7470-4d06-90b5-41feb1b76917",
   "metadata": {},
   "outputs": [
    {
     "name": "stdout",
     "output_type": "stream",
     "text": [
      "[['apple', 10], ['banana', 6], ['cherry', 8], ['dragon', 5], ['apple', 15]]\n",
      "[10, 15]\n",
      "25\n"
     ]
    }
   ],
   "source": [
    "orders=[['apple',10],['banana',6],['cherry',8],['dragon',5]]\n",
    "orders.append(['apple',15])\n",
    "print(orders)\n",
    "total = []\n",
    "for each_item in orders:\n",
    "    if each_item[0] == \"apple\":\n",
    "        total.append(each_item[1])\n",
    "print(total)\n",
    "print(sum(total))\n",
    "    \n",
    "     \n",
    "\n"
   ]
  },
  {
   "cell_type": "code",
   "execution_count": 17,
   "id": "26fe9c66-79ae-426e-904d-8856c9122850",
   "metadata": {},
   "outputs": [
    {
     "name": "stdout",
     "output_type": "stream",
     "text": [
      "(6, 'A')\n",
      "(4, 2, 4, 5, 6, 'A', False, (9-8j))\n",
      "<class 'tuple'>\n"
     ]
    }
   ],
   "source": [
    "tuple = (4,2,4,5,6,'A',False,9-8j)\n",
    "print(tuple)\n",
    "print(type(tuple))"
   ]
  },
  {
   "cell_type": "code",
   "execution_count": 18,
   "id": "f8853858-1b5b-4eb9-a9d0-c8a3ebf90109",
   "metadata": {},
   "outputs": [
    {
     "data": {
      "text/plain": [
       "(6, 'A')"
      ]
     },
     "execution_count": 18,
     "metadata": {},
     "output_type": "execute_result"
    }
   ],
   "source": [
    "#slicing\n",
    "tuple[4:6]"
   ]
  },
  {
   "cell_type": "code",
   "execution_count": 19,
   "id": "ad6344aa-cd96-4c00-b5e9-51db2a202c77",
   "metadata": {},
   "outputs": [
    {
     "data": {
      "text/plain": [
       "5"
      ]
     },
     "execution_count": 19,
     "metadata": {},
     "output_type": "execute_result"
    }
   ],
   "source": [
    "#finding indexing\n",
    "tuple.index('A')"
   ]
  },
  {
   "cell_type": "code",
   "execution_count": 21,
   "id": "9c346d75-3c73-4201-ac88-a7b595811ff5",
   "metadata": {},
   "outputs": [
    {
     "data": {
      "text/plain": [
       "4"
      ]
     },
     "execution_count": 21,
     "metadata": {},
     "output_type": "execute_result"
    }
   ],
   "source": [
    "#count method f tuple\n",
    "tup2 = (10,20,10,10,30,10)\n",
    "tup2.count(10)"
   ]
  },
  {
   "cell_type": "code",
   "execution_count": 10,
   "id": "ee4f2987-f6d9-4118-b049-52d736e07835",
   "metadata": {},
   "outputs": [
    {
     "data": {
      "text/plain": [
       "{'virat': 90,\n",
       " 'Rohith': 100,\n",
       " 'Rahul': 70,\n",
       " 'Hardik': 9,\n",
       " 'Gill': 20,\n",
       " 'jadeja': 30,\n",
       " 'Siraz': 15}"
      ]
     },
     "execution_count": 10,
     "metadata": {},
     "output_type": "execute_result"
    }
   ],
   "source": [
    "scores = {\"virat\":90,\n",
    "          \"Rohith\":100,\n",
    "          \"Rahul\":70,\n",
    "          \"Hardik\":9,\n",
    "          \"Gill\":20,\n",
    "          \"jadeja\":30,\n",
    "          \"Siraz\":15}\n",
    "scores\n"
   ]
  },
  {
   "cell_type": "code",
   "execution_count": 11,
   "id": "e8f3888e-1fec-4fd5-b264-6a186d62dedf",
   "metadata": {},
   "outputs": [
    {
     "data": {
      "text/plain": [
       "{'virat': 90,\n",
       " 'Rohith': 100,\n",
       " 'Rahul': 70,\n",
       " 'Hardik': 9,\n",
       " 'Gill': 20,\n",
       " 'jadeja': 30,\n",
       " 'Siraz': 15,\n",
       " 'Aswin': 15}"
      ]
     },
     "execution_count": 11,
     "metadata": {},
     "output_type": "execute_result"
    }
   ],
   "source": [
    "scores[\"Aswin\"] = 15\n",
    "scores\n"
   ]
  },
  {
   "cell_type": "code",
   "execution_count": 12,
   "id": "eb78a8bf-691d-405f-bb0d-e42b6017d8f6",
   "metadata": {},
   "outputs": [
    {
     "data": {
      "text/plain": [
       "{'virat': 90,\n",
       " 'Rohith': 100,\n",
       " 'Rahul': 70,\n",
       " 'Hardik': 9,\n",
       " 'Gill': 20,\n",
       " 'jadeja': 50,\n",
       " 'Siraz': 15,\n",
       " 'Aswin': 15}"
      ]
     },
     "execution_count": 12,
     "metadata": {},
     "output_type": "execute_result"
    }
   ],
   "source": [
    "scores.update({\"jadeja\":50})\n",
    "scores\n"
   ]
  },
  {
   "cell_type": "code",
   "execution_count": 13,
   "id": "50abca67-21b4-40af-b19b-592a29a6920e",
   "metadata": {},
   "outputs": [
    {
     "data": {
      "text/plain": [
       "{'virat': 90,\n",
       " 'Rohith': 100,\n",
       " 'Rahul': 70,\n",
       " 'Hardik': 85,\n",
       " 'Gill': 20,\n",
       " 'jadeja': 50,\n",
       " 'Siraz': 15,\n",
       " 'Aswin': 15,\n",
       " 'Rahane': 55}"
      ]
     },
     "execution_count": 13,
     "metadata": {},
     "output_type": "execute_result"
    }
   ],
   "source": [
    "scores.update({\"Hardik\":85, \"Rahane\":55})\n",
    "scores"
   ]
  },
  {
   "cell_type": "code",
   "execution_count": 15,
   "id": "fb136d91-74d9-4c08-85e2-751442a40694",
   "metadata": {},
   "outputs": [
    {
     "data": {
      "text/plain": [
       "{'virat': 90,\n",
       " 'Rohith': 100,\n",
       " 'Rahul': 70,\n",
       " 'Hardik': 85,\n",
       " 'Gill': 20,\n",
       " 'jadeja': 50,\n",
       " 'Siraz': 15,\n",
       " 'Aswin': 15,\n",
       " 'Rahane': 55,\n",
       " 'pujari': 50}"
      ]
     },
     "execution_count": 15,
     "metadata": {},
     "output_type": "execute_result"
    }
   ],
   "source": [
    "scores.setdefault(\"pujari\",50)\n",
    "scores"
   ]
  },
  {
   "cell_type": "code",
   "execution_count": 17,
   "id": "3732d4ef-d3d7-4716-8fb6-16250782cfa9",
   "metadata": {},
   "outputs": [
    {
     "data": {
      "text/plain": [
       "{'virat': 90,\n",
       " 'Rohith': 100,\n",
       " 'Rahul': 70,\n",
       " 'Hardik': 85,\n",
       " 'Gill': 20,\n",
       " 'jadeja': 50,\n",
       " 'Siraz': 15,\n",
       " 'Aswin': 15,\n",
       " 'Rahane': 55}"
      ]
     },
     "execution_count": 17,
     "metadata": {},
     "output_type": "execute_result"
    }
   ],
   "source": [
    "scores.popitem()\n",
    "scores"
   ]
  },
  {
   "cell_type": "code",
   "execution_count": 18,
   "id": "3af4746c-480a-4ac7-aa4e-e988a9c76bee",
   "metadata": {},
   "outputs": [
    {
     "data": {
      "text/plain": [
       "{'virat': 90,\n",
       " 'Rohith': 100,\n",
       " 'Rahul': 70,\n",
       " 'Hardik': 85,\n",
       " 'Gill': 20,\n",
       " 'Siraz': 15,\n",
       " 'Aswin': 15,\n",
       " 'Rahane': 55}"
      ]
     },
     "execution_count": 18,
     "metadata": {},
     "output_type": "execute_result"
    }
   ],
   "source": [
    "scores.pop(\"jadeja\")\n",
    "scores"
   ]
  },
  {
   "cell_type": "code",
   "execution_count": 19,
   "id": "08fcf09b-d0bc-44bb-97a6-39eb46f8d775",
   "metadata": {},
   "outputs": [
    {
     "data": {
      "text/plain": [
       "85"
      ]
     },
     "execution_count": 19,
     "metadata": {},
     "output_type": "execute_result"
    }
   ],
   "source": [
    "scores.get(\"Hardik\")"
   ]
  },
  {
   "cell_type": "code",
   "execution_count": 31,
   "id": "2a3277d4-81d0-4086-8ecc-c81920073b93",
   "metadata": {},
   "outputs": [
    {
     "data": {
      "text/plain": [
       "{'A': 20, 'B': 30, 'C': 40, 'D': 20}"
      ]
     },
     "execution_count": 31,
     "metadata": {},
     "output_type": "execute_result"
    }
   ],
   "source": [
    "list1 = [\"A\",\"B\",\"C\",\"D\",]\n",
    "my_dict = dict.fromkeys(list1,20)\n",
    "my_dict.update({\"B\":30},)\n",
    "my_dict.update({\"C\":40},)\n",
    "my_dict"
   ]
  },
  {
   "cell_type": "code",
   "execution_count": 34,
   "id": "aaa49bab-c43c-497b-97aa-194cebe87603",
   "metadata": {},
   "outputs": [
    {
     "data": {
      "text/plain": [
       "{'virat': 90,\n",
       " 'Rohith': 100,\n",
       " 'Rahul': 70,\n",
       " 'Hardik': 35,\n",
       " 'Gill': 20,\n",
       " 'Siraz': 15,\n",
       " 'Aswin': 15,\n",
       " 'Rahane': 55}"
      ]
     },
     "execution_count": 34,
     "metadata": {},
     "output_type": "execute_result"
    }
   ],
   "source": [
    "for k in scores.keys():\n",
    "    if k == \"Hardik\":\n",
    "        scores[k] = 35\n",
    "scores \n",
    "        "
   ]
  },
  {
   "cell_type": "code",
   "execution_count": 36,
   "id": "e058e127-be85-4b0e-bd9d-2df9e106a298",
   "metadata": {},
   "outputs": [
    {
     "name": "stdout",
     "output_type": "stream",
     "text": [
      "[90, 100, 70, 35, 20, 15, 15, 55]\n",
      "Total Score:  400\n"
     ]
    }
   ],
   "source": [
    "##total scores\n",
    "scores_list = []\n",
    "for v in scores.values():\n",
    "    scores_list.append(v)\n",
    "print(scores_list)\n",
    "print(\"Total Score: \",sum(scores_list))"
   ]
  },
  {
   "cell_type": "code",
   "execution_count": null,
   "id": "24708e7d-cc4f-4034-b7d9-a89a95d0f656",
   "metadata": {},
   "outputs": [],
   "source": []
  }
 ],
 "metadata": {
  "kernelspec": {
   "display_name": "Python 3 (ipykernel)",
   "language": "python",
   "name": "python3"
  },
  "language_info": {
   "codemirror_mode": {
    "name": "ipython",
    "version": 3
   },
   "file_extension": ".py",
   "mimetype": "text/x-python",
   "name": "python",
   "nbconvert_exporter": "python",
   "pygments_lexer": "ipython3",
   "version": "3.12.7"
  }
 },
 "nbformat": 4,
 "nbformat_minor": 5
}
