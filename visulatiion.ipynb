{
 "cells": [
  {
   "cell_type": "code",
   "execution_count": 1,
   "id": "247803cc-c18f-49a5-94de-18d00e0bfafd",
   "metadata": {},
   "outputs": [],
   "source": [
    "import pandas as pd\n",
    "import numpy as np"
   ]
  },
  {
   "cell_type": "code",
   "execution_count": 5,
   "id": "33d17143-f130-41c0-b18a-26ba2b16de3e",
   "metadata": {},
   "outputs": [
    {
     "data": {
      "text/html": [
       "<div>\n",
       "<style scoped>\n",
       "    .dataframe tbody tr th:only-of-type {\n",
       "        vertical-align: middle;\n",
       "    }\n",
       "\n",
       "    .dataframe tbody tr th {\n",
       "        vertical-align: top;\n",
       "    }\n",
       "\n",
       "    .dataframe thead th {\n",
       "        text-align: right;\n",
       "    }\n",
       "</style>\n",
       "<table border=\"1\" class=\"dataframe\">\n",
       "  <thead>\n",
       "    <tr style=\"text-align: right;\">\n",
       "      <th></th>\n",
       "      <th>Univ</th>\n",
       "      <th>SAT</th>\n",
       "      <th>Top10</th>\n",
       "      <th>Accept</th>\n",
       "      <th>SFRatio</th>\n",
       "      <th>Expenses</th>\n",
       "      <th>GradRate</th>\n",
       "    </tr>\n",
       "  </thead>\n",
       "  <tbody>\n",
       "    <tr>\n",
       "      <th>0</th>\n",
       "      <td>Brown</td>\n",
       "      <td>1310</td>\n",
       "      <td>89</td>\n",
       "      <td>22</td>\n",
       "      <td>13</td>\n",
       "      <td>22704</td>\n",
       "      <td>94</td>\n",
       "    </tr>\n",
       "    <tr>\n",
       "      <th>1</th>\n",
       "      <td>CalTech</td>\n",
       "      <td>1415</td>\n",
       "      <td>100</td>\n",
       "      <td>25</td>\n",
       "      <td>6</td>\n",
       "      <td>63575</td>\n",
       "      <td>81</td>\n",
       "    </tr>\n",
       "    <tr>\n",
       "      <th>2</th>\n",
       "      <td>CMU</td>\n",
       "      <td>1260</td>\n",
       "      <td>62</td>\n",
       "      <td>59</td>\n",
       "      <td>9</td>\n",
       "      <td>25026</td>\n",
       "      <td>72</td>\n",
       "    </tr>\n",
       "    <tr>\n",
       "      <th>3</th>\n",
       "      <td>Columbia</td>\n",
       "      <td>1310</td>\n",
       "      <td>76</td>\n",
       "      <td>24</td>\n",
       "      <td>12</td>\n",
       "      <td>31510</td>\n",
       "      <td>88</td>\n",
       "    </tr>\n",
       "    <tr>\n",
       "      <th>4</th>\n",
       "      <td>Cornell</td>\n",
       "      <td>1280</td>\n",
       "      <td>83</td>\n",
       "      <td>33</td>\n",
       "      <td>13</td>\n",
       "      <td>21864</td>\n",
       "      <td>90</td>\n",
       "    </tr>\n",
       "    <tr>\n",
       "      <th>5</th>\n",
       "      <td>Dartmouth</td>\n",
       "      <td>1340</td>\n",
       "      <td>89</td>\n",
       "      <td>23</td>\n",
       "      <td>10</td>\n",
       "      <td>32162</td>\n",
       "      <td>95</td>\n",
       "    </tr>\n",
       "    <tr>\n",
       "      <th>6</th>\n",
       "      <td>Duke</td>\n",
       "      <td>1315</td>\n",
       "      <td>90</td>\n",
       "      <td>30</td>\n",
       "      <td>12</td>\n",
       "      <td>31585</td>\n",
       "      <td>95</td>\n",
       "    </tr>\n",
       "    <tr>\n",
       "      <th>7</th>\n",
       "      <td>Georgetown</td>\n",
       "      <td>1255</td>\n",
       "      <td>74</td>\n",
       "      <td>24</td>\n",
       "      <td>12</td>\n",
       "      <td>20126</td>\n",
       "      <td>92</td>\n",
       "    </tr>\n",
       "    <tr>\n",
       "      <th>8</th>\n",
       "      <td>Harvard</td>\n",
       "      <td>1400</td>\n",
       "      <td>91</td>\n",
       "      <td>14</td>\n",
       "      <td>11</td>\n",
       "      <td>39525</td>\n",
       "      <td>97</td>\n",
       "    </tr>\n",
       "    <tr>\n",
       "      <th>9</th>\n",
       "      <td>JohnsHopkins</td>\n",
       "      <td>1305</td>\n",
       "      <td>75</td>\n",
       "      <td>44</td>\n",
       "      <td>7</td>\n",
       "      <td>58691</td>\n",
       "      <td>87</td>\n",
       "    </tr>\n",
       "    <tr>\n",
       "      <th>10</th>\n",
       "      <td>MIT</td>\n",
       "      <td>1380</td>\n",
       "      <td>94</td>\n",
       "      <td>30</td>\n",
       "      <td>10</td>\n",
       "      <td>34870</td>\n",
       "      <td>91</td>\n",
       "    </tr>\n",
       "    <tr>\n",
       "      <th>11</th>\n",
       "      <td>Northwestern</td>\n",
       "      <td>1260</td>\n",
       "      <td>85</td>\n",
       "      <td>39</td>\n",
       "      <td>11</td>\n",
       "      <td>28052</td>\n",
       "      <td>89</td>\n",
       "    </tr>\n",
       "    <tr>\n",
       "      <th>12</th>\n",
       "      <td>NotreDame</td>\n",
       "      <td>1255</td>\n",
       "      <td>81</td>\n",
       "      <td>42</td>\n",
       "      <td>13</td>\n",
       "      <td>15122</td>\n",
       "      <td>94</td>\n",
       "    </tr>\n",
       "    <tr>\n",
       "      <th>13</th>\n",
       "      <td>PennState</td>\n",
       "      <td>1081</td>\n",
       "      <td>38</td>\n",
       "      <td>54</td>\n",
       "      <td>18</td>\n",
       "      <td>10185</td>\n",
       "      <td>80</td>\n",
       "    </tr>\n",
       "    <tr>\n",
       "      <th>14</th>\n",
       "      <td>Princeton</td>\n",
       "      <td>1375</td>\n",
       "      <td>91</td>\n",
       "      <td>14</td>\n",
       "      <td>8</td>\n",
       "      <td>30220</td>\n",
       "      <td>95</td>\n",
       "    </tr>\n",
       "    <tr>\n",
       "      <th>15</th>\n",
       "      <td>Purdue</td>\n",
       "      <td>1005</td>\n",
       "      <td>28</td>\n",
       "      <td>90</td>\n",
       "      <td>19</td>\n",
       "      <td>9066</td>\n",
       "      <td>69</td>\n",
       "    </tr>\n",
       "    <tr>\n",
       "      <th>16</th>\n",
       "      <td>Stanford</td>\n",
       "      <td>1360</td>\n",
       "      <td>90</td>\n",
       "      <td>20</td>\n",
       "      <td>12</td>\n",
       "      <td>36450</td>\n",
       "      <td>93</td>\n",
       "    </tr>\n",
       "    <tr>\n",
       "      <th>17</th>\n",
       "      <td>TexasA&amp;M</td>\n",
       "      <td>1075</td>\n",
       "      <td>49</td>\n",
       "      <td>67</td>\n",
       "      <td>25</td>\n",
       "      <td>8704</td>\n",
       "      <td>67</td>\n",
       "    </tr>\n",
       "    <tr>\n",
       "      <th>18</th>\n",
       "      <td>UCBerkeley</td>\n",
       "      <td>1240</td>\n",
       "      <td>95</td>\n",
       "      <td>40</td>\n",
       "      <td>17</td>\n",
       "      <td>15140</td>\n",
       "      <td>78</td>\n",
       "    </tr>\n",
       "    <tr>\n",
       "      <th>19</th>\n",
       "      <td>UChicago</td>\n",
       "      <td>1290</td>\n",
       "      <td>75</td>\n",
       "      <td>50</td>\n",
       "      <td>13</td>\n",
       "      <td>38380</td>\n",
       "      <td>87</td>\n",
       "    </tr>\n",
       "    <tr>\n",
       "      <th>20</th>\n",
       "      <td>UMichigan</td>\n",
       "      <td>1180</td>\n",
       "      <td>65</td>\n",
       "      <td>68</td>\n",
       "      <td>16</td>\n",
       "      <td>15470</td>\n",
       "      <td>85</td>\n",
       "    </tr>\n",
       "    <tr>\n",
       "      <th>21</th>\n",
       "      <td>UPenn</td>\n",
       "      <td>1285</td>\n",
       "      <td>80</td>\n",
       "      <td>36</td>\n",
       "      <td>11</td>\n",
       "      <td>27553</td>\n",
       "      <td>90</td>\n",
       "    </tr>\n",
       "    <tr>\n",
       "      <th>22</th>\n",
       "      <td>UVA</td>\n",
       "      <td>1225</td>\n",
       "      <td>77</td>\n",
       "      <td>44</td>\n",
       "      <td>14</td>\n",
       "      <td>13349</td>\n",
       "      <td>92</td>\n",
       "    </tr>\n",
       "    <tr>\n",
       "      <th>23</th>\n",
       "      <td>UWisconsin</td>\n",
       "      <td>1085</td>\n",
       "      <td>40</td>\n",
       "      <td>69</td>\n",
       "      <td>15</td>\n",
       "      <td>11857</td>\n",
       "      <td>71</td>\n",
       "    </tr>\n",
       "    <tr>\n",
       "      <th>24</th>\n",
       "      <td>Yale</td>\n",
       "      <td>1375</td>\n",
       "      <td>95</td>\n",
       "      <td>19</td>\n",
       "      <td>11</td>\n",
       "      <td>43514</td>\n",
       "      <td>96</td>\n",
       "    </tr>\n",
       "  </tbody>\n",
       "</table>\n",
       "</div>"
      ],
      "text/plain": [
       "            Univ   SAT  Top10  Accept  SFRatio  Expenses  GradRate\n",
       "0          Brown  1310     89      22       13     22704        94\n",
       "1        CalTech  1415    100      25        6     63575        81\n",
       "2            CMU  1260     62      59        9     25026        72\n",
       "3       Columbia  1310     76      24       12     31510        88\n",
       "4        Cornell  1280     83      33       13     21864        90\n",
       "5      Dartmouth  1340     89      23       10     32162        95\n",
       "6           Duke  1315     90      30       12     31585        95\n",
       "7     Georgetown  1255     74      24       12     20126        92\n",
       "8        Harvard  1400     91      14       11     39525        97\n",
       "9   JohnsHopkins  1305     75      44        7     58691        87\n",
       "10           MIT  1380     94      30       10     34870        91\n",
       "11  Northwestern  1260     85      39       11     28052        89\n",
       "12     NotreDame  1255     81      42       13     15122        94\n",
       "13     PennState  1081     38      54       18     10185        80\n",
       "14     Princeton  1375     91      14        8     30220        95\n",
       "15        Purdue  1005     28      90       19      9066        69\n",
       "16      Stanford  1360     90      20       12     36450        93\n",
       "17      TexasA&M  1075     49      67       25      8704        67\n",
       "18    UCBerkeley  1240     95      40       17     15140        78\n",
       "19      UChicago  1290     75      50       13     38380        87\n",
       "20     UMichigan  1180     65      68       16     15470        85\n",
       "21         UPenn  1285     80      36       11     27553        90\n",
       "22           UVA  1225     77      44       14     13349        92\n",
       "23    UWisconsin  1085     40      69       15     11857        71\n",
       "24          Yale  1375     95      19       11     43514        96"
      ]
     },
     "execution_count": 5,
     "metadata": {},
     "output_type": "execute_result"
    }
   ],
   "source": [
    "df = pd.read_csv(\"universities.csv\")\n",
    "df"
   ]
  },
  {
   "cell_type": "code",
   "execution_count": null,
   "id": "36ae5be7-a7a1-4860-8b9f-8ac1cc07d2d3",
   "metadata": {},
   "outputs": [],
   "source": [
    "df.describe()"
   ]
  },
  {
   "cell_type": "code",
   "execution_count": null,
   "id": "76f52ea1-229f-4cbb-8df4-04e4481d7d32",
   "metadata": {},
   "outputs": [],
   "source": [
    "np.mean(df[\"SAT\"])"
   ]
  },
  {
   "cell_type": "code",
   "execution_count": null,
   "id": "fa5d1a29-0c8a-4a2a-8ad0-af7a4f67993d",
   "metadata": {},
   "outputs": [],
   "source": [
    "np.median(df[\"SAT\"])"
   ]
  },
  {
   "cell_type": "code",
   "execution_count": 6,
   "id": "07014c1f-ef77-47d7-b942-e0eb14c2705d",
   "metadata": {},
   "outputs": [],
   "source": [
    "import matplotlib.pyplot as plt\n",
    "import seaborn as sns"
   ]
  },
  {
   "cell_type": "code",
   "execution_count": null,
   "id": "98a7548d-172f-4430-aeea-5000363520ca",
   "metadata": {},
   "outputs": [],
   "source": [
    "plt.figure(figsize=(6,3))\n",
    "plt.title(\"Acceptance Ratio\")\n",
    "plt.hist(df[\"Accept\"])"
   ]
  },
  {
   "cell_type": "code",
   "execution_count": null,
   "id": "7d893b89-a726-4460-89f6-22ff4cfbe978",
   "metadata": {},
   "outputs": [],
   "source": [
    "sns.histplot(df[\"Accept\"])"
   ]
  },
  {
   "cell_type": "code",
   "execution_count": null,
   "id": "93847d3f-eb10-45ab-822f-b0118f66bcb4",
   "metadata": {},
   "outputs": [],
   "source": [
    "sns.histplot(df[\"Accept\"], kde =True)"
   ]
  },
  {
   "cell_type": "code",
   "execution_count": null,
   "id": "3aa6c9db-bff6-4ae0-851b-25466646fce3",
   "metadata": {},
   "outputs": [],
   "source": [
    "### Observation\n",
    "  In acceptance ration the data distribution is non-Symmeetrical and right skewed"
   ]
  },
  {
   "cell_type": "code",
   "execution_count": 3,
   "id": "7c87258b-ff79-44e5-a773-2041076c8762",
   "metadata": {},
   "outputs": [
    {
     "data": {
      "text/plain": [
       "0    20\n",
       "1    15\n",
       "2    10\n",
       "3    25\n",
       "4    30\n",
       "5    35\n",
       "6    28\n",
       "7    40\n",
       "8    45\n",
       "9    60\n",
       "dtype: int64"
      ]
     },
     "execution_count": 3,
     "metadata": {},
     "output_type": "execute_result"
    }
   ],
   "source": [
    "s1 = [20,15,10,25,30,35,28,40,45,60]\n",
    "scores1 = pd.Series(s1)\n",
    "scores1"
   ]
  },
  {
   "cell_type": "code",
   "execution_count": 7,
   "id": "53048ff8-1b4d-4071-98be-cb0ecdbe18fa",
   "metadata": {},
   "outputs": [
    {
     "data": {
      "text/plain": [
       "{'whiskers': [<matplotlib.lines.Line2D at 0x2449f84f3e0>,\n",
       "  <matplotlib.lines.Line2D at 0x2449f84f6b0>],\n",
       " 'caps': [<matplotlib.lines.Line2D at 0x2449f84f9b0>,\n",
       "  <matplotlib.lines.Line2D at 0x2449f84fc50>],\n",
       " 'boxes': [<matplotlib.lines.Line2D at 0x2449f84f110>],\n",
       " 'medians': [<matplotlib.lines.Line2D at 0x2449f84ff50>],\n",
       " 'fliers': [<matplotlib.lines.Line2D at 0x2449f888230>],\n",
       " 'means': []}"
      ]
     },
     "execution_count": 7,
     "metadata": {},
     "output_type": "execute_result"
    },
    {
     "data": {
      "image/png": "[encoded data removed]",
      "text/plain": [
       "<Figure size 640x480 with 1 Axes>"
      ]
     },
     "metadata": {},
     "output_type": "display_data"
    }
   ],
   "source": [
    "plt.boxplot(scores1, vert=False)"
   ]
  },
  {
   "cell_type": "code",
   "execution_count": 8,
   "id": "9b556ffa-1db8-40b1-8407-1c4ea63ae6f3",
   "metadata": {},
   "outputs": [
    {
     "data": {
      "text/plain": [
       "{'whiskers': [<matplotlib.lines.Line2D at 0x2449f911880>,\n",
       "  <matplotlib.lines.Line2D at 0x2449f911b50>],\n",
       " 'caps': [<matplotlib.lines.Line2D at 0x2449f911df0>,\n",
       "  <matplotlib.lines.Line2D at 0x2449f9120c0>],\n",
       " 'boxes': [<matplotlib.lines.Line2D at 0x2449f8de540>],\n",
       " 'medians': [<matplotlib.lines.Line2D at 0x2449f912390>],\n",
       " 'fliers': [<matplotlib.lines.Line2D at 0x2449f912600>],\n",
       " 'means': []}"
      ]
     },
     "execution_count": 8,
     "metadata": {},
     "output_type": "execute_result"
    },
    {
     "data": {
      "image/png": "[encoded data removed]",
      "text/plain": [
       "<Figure size 640x480 with 1 Axes>"
      ]
     },
     "metadata": {},
     "output_type": "display_data"
    }
   ],
   "source": [
    "plt.boxplot(scores1, vert=True)"
   ]
  },
  {
   "cell_type": "code",
   "execution_count": 10,
   "id": "46e1e93a-a961-4620-a5f9-a9a3bd0bc9dd",
   "metadata": {},
   "outputs": [
    {
     "data": {
      "text/plain": [
       "0      15\n",
       "1      10\n",
       "2      25\n",
       "3      30\n",
       "4      35\n",
       "5      28\n",
       "6      40\n",
       "7      45\n",
       "8      60\n",
       "9     120\n",
       "10    130\n",
       "dtype: int64"
      ]
     },
     "execution_count": 10,
     "metadata": {},
     "output_type": "execute_result"
    }
   ],
   "source": [
    "s1 = [15,10,25,30,35,28,40,45,60,120,130]\n",
    "scores2 = pd.Series(s1)\n",
    "scores2\n"
   ]
  },
  {
   "cell_type": "code",
   "execution_count": 11,
   "id": "510b4acc-4dae-4acb-bad3-e047f5d221b5",
   "metadata": {},
   "outputs": [
    {
     "data": {
      "text/plain": [
       "{'whiskers': [<matplotlib.lines.Line2D at 0x2449f990c80>,\n",
       "  <matplotlib.lines.Line2D at 0x2449f990f50>],\n",
       " 'caps': [<matplotlib.lines.Line2D at 0x2449f9911c0>,\n",
       "  <matplotlib.lines.Line2D at 0x2449f991490>],\n",
       " 'boxes': [<matplotlib.lines.Line2D at 0x2449f990b30>],\n",
       " 'medians': [<matplotlib.lines.Line2D at 0x2449f991730>],\n",
       " 'fliers': [<matplotlib.lines.Line2D at 0x2449f9919d0>],\n",
       " 'means': []}"
      ]
     },
     "execution_count": 11,
     "metadata": {},
     "output_type": "execute_result"
    },
    {
     "data": {
      "image/png": "[encoded data removed]",
      "text/plain": [
       "<Figure size 640x480 with 1 Axes>"
      ]
     },
     "metadata": {},
     "output_type": "display_data"
    }
   ],
   "source": [
    "plt.boxplot(scores2, vert=True)"
   ]
  },
  {
   "cell_type": "code",
   "execution_count": 12,
   "id": "b9b9d5ea-4a32-4374-86de-031e132836c8",
   "metadata": {},
   "outputs": [
    {
     "data": {
      "text/plain": [
       "{'whiskers': [<matplotlib.lines.Line2D at 0x2449f9cf680>,\n",
       "  <matplotlib.lines.Line2D at 0x2449f9cf8c0>],\n",
       " 'caps': [<matplotlib.lines.Line2D at 0x2449f9cfb00>,\n",
       "  <matplotlib.lines.Line2D at 0x2449f9cfdd0>],\n",
       " 'boxes': [<matplotlib.lines.Line2D at 0x2449f9cf590>],\n",
       " 'medians': [<matplotlib.lines.Line2D at 0x2449fa08080>],\n",
       " 'fliers': [<matplotlib.lines.Line2D at 0x2449fa082f0>],\n",
       " 'means': []}"
      ]
     },
     "execution_count": 12,
     "metadata": {},
     "output_type": "execute_result"
    },
    {
     "data": {
      "image/png": "[encoded data removed]",
      "text/plain": [
       "<Figure size 640x480 with 1 Axes>"
      ]
     },
     "metadata": {},
     "output_type": "display_data"
    }
   ],
   "source": [
    "plt.boxplot(scores2, vert=False)"
   ]
  },
  {
   "cell_type": "code",
   "execution_count": 19,
   "id": "1a4bbf18-4cc7-4132-ba5d-ba24075402e7",
   "metadata": {},
   "outputs": [
    {
     "name": "stdout",
     "output_type": "stream",
     "text": [
      "            Univ   SAT  Top10  Accept  SFRatio  Expenses  GradRate\n",
      "0          Brown  1310     89      22       13     22704        94\n",
      "1        CalTech  1415    100      25        6     63575        81\n",
      "2            CMU  1260     62      59        9     25026        72\n",
      "3       Columbia  1310     76      24       12     31510        88\n",
      "4        Cornell  1280     83      33       13     21864        90\n",
      "5      Dartmouth  1340     89      23       10     32162        95\n",
      "6           Duke  1315     90      30       12     31585        95\n",
      "7     Georgetown  1255     74      24       12     20126        92\n",
      "8        Harvard  1400     91      14       11     39525        97\n",
      "9   JohnsHopkins  1305     75      44        7     58691        87\n",
      "10           MIT  1380     94      30       10     34870        91\n",
      "11  Northwestern  1260     85      39       11     28052        89\n",
      "12     NotreDame  1255     81      42       13     15122        94\n",
      "13     PennState  1081     38      54       18     10185        80\n",
      "14     Princeton  1375     91      14        8     30220        95\n",
      "15        Purdue  1005     28      90       19      9066        69\n",
      "16      Stanford  1360     90      20       12     36450        93\n",
      "17      TexasA&M  1075     49      67       25      8704        67\n",
      "18    UCBerkeley  1240     95      40       17     15140        78\n",
      "19      UChicago  1290     75      50       13     38380        87\n",
      "20     UMichigan  1180     65      68       16     15470        85\n",
      "21         UPenn  1285     80      36       11     27553        90\n",
      "22           UVA  1225     77      44       14     13349        92\n",
      "23    UWisconsin  1085     40      69       15     11857        71\n",
      "24          Yale  1375     95      19       11     43514        96\n"
     ]
    },
    {
     "data": {
      "text/plain": [
       "{'whiskers': [<matplotlib.lines.Line2D at 0x244a42643b0>,\n",
       "  <matplotlib.lines.Line2D at 0x244a4264710>],\n",
       " 'caps': [<matplotlib.lines.Line2D at 0x244a42649b0>,\n",
       "  <matplotlib.lines.Line2D at 0x244a4264d40>],\n",
       " 'boxes': [<matplotlib.lines.Line2D at 0x244a42641a0>],\n",
       " 'medians': [<matplotlib.lines.Line2D at 0x244a4265010>],\n",
       " 'fliers': [<matplotlib.lines.Line2D at 0x244a42652e0>],\n",
       " 'means': []}"
      ]
     },
     "execution_count": 19,
     "metadata": {},
     "output_type": "execute_result"
    },
    {
     "data": {
      "image/png": "[encoded data removed]",
      "text/plain": [
       "<Figure size 640x480 with 1 Axes>"
      ]
     },
     "metadata": {},
     "output_type": "display_data"
    }
   ],
   "source": [
    "df = pd.read_csv(\"universities.csv\")\n",
    "print(df)\n",
    "plt.boxplot(df[\"SAT\"])\n"
   ]
  },
  {
   "cell_type": "code",
   "execution_count": 20,
   "id": "ce949079-efd4-4e53-af6d-17e231f7c030",
   "metadata": {},
   "outputs": [
    {
     "data": {
      "text/plain": [
       "{'whiskers': [<matplotlib.lines.Line2D at 0x244a42b36e0>,\n",
       "  <matplotlib.lines.Line2D at 0x244a42b39b0>],\n",
       " 'caps': [<matplotlib.lines.Line2D at 0x244a42b3b90>,\n",
       "  <matplotlib.lines.Line2D at 0x244a42b3e60>],\n",
       " 'boxes': [<matplotlib.lines.Line2D at 0x244a4266540>],\n",
       " 'medians': [<matplotlib.lines.Line2D at 0x244a42e0110>],\n",
       " 'fliers': [<matplotlib.lines.Line2D at 0x244a42e0410>],\n",
       " 'means': []}"
      ]
     },
     "execution_count": 20,
     "metadata": {},
     "output_type": "execute_result"
    },
    {
     "data": {
      "image/png": "[encoded data removed]",
      "text/plain": [
       "<Figure size 640x480 with 1 Axes>"
      ]
     },
     "metadata": {},
     "output_type": "display_data"
    }
   ],
   "source": [
    "\n",
    "plt.boxplot(df[\"Top10\"])"
   ]
  },
  {
   "cell_type": "code",
   "execution_count": 21,
   "id": "d7492e2b-4c07-40c8-8a7b-9dec411a9dab",
   "metadata": {},
   "outputs": [
    {
     "data": {
      "text/plain": [
       "{'whiskers': [<matplotlib.lines.Line2D at 0x244a4303ef0>,\n",
       "  <matplotlib.lines.Line2D at 0x244a43256d0>],\n",
       " 'caps': [<matplotlib.lines.Line2D at 0x244a4325940>,\n",
       "  <matplotlib.lines.Line2D at 0x244a4325c40>],\n",
       " 'boxes': [<matplotlib.lines.Line2D at 0x244a4325220>],\n",
       " 'medians': [<matplotlib.lines.Line2D at 0x244a4325ee0>],\n",
       " 'fliers': [<matplotlib.lines.Line2D at 0x244a4326180>],\n",
       " 'means': []}"
      ]
     },
     "execution_count": 21,
     "metadata": {},
     "output_type": "execute_result"
    },
    {
     "data": {
      "image/png": "[encoded data removed]",
      "text/plain": [
       "<Figure size 640x480 with 1 Axes>"
      ]
     },
     "metadata": {},
     "output_type": "display_data"
    }
   ],
   "source": [
    "plt.boxplot(df[\"Accept\"])"
   ]
  },
  {
   "cell_type": "code",
   "execution_count": 23,
   "id": "20f45de6-f3fe-4457-a619-63e898e67727",
   "metadata": {},
   "outputs": [
    {
     "data": {
      "text/plain": [
       "{'whiskers': [<matplotlib.lines.Line2D at 0x244a423d670>,\n",
       "  <matplotlib.lines.Line2D at 0x244a42e04a0>],\n",
       " 'caps': [<matplotlib.lines.Line2D at 0x244a42e0650>,\n",
       "  <matplotlib.lines.Line2D at 0x244a4324c50>],\n",
       " 'boxes': [<matplotlib.lines.Line2D at 0x244a435c950>],\n",
       " 'medians': [<matplotlib.lines.Line2D at 0x244a4290e30>],\n",
       " 'fliers': [<matplotlib.lines.Line2D at 0x244a4292c00>],\n",
       " 'means': []}"
      ]
     },
     "execution_count": 23,
     "metadata": {},
     "output_type": "execute_result"
    },
    {
     "data": {
      "image/png": "[encoded data removed]",
      "text/plain": [
       "<Figure size 640x480 with 1 Axes>"
      ]
     },
     "metadata": {},
     "output_type": "display_data"
    }
   ],
   "source": [
    "plt.boxplot(df[\"SFRatio\"])"
   ]
  },
  {
   "cell_type": "code",
   "execution_count": 24,
   "id": "35397a9e-f85d-424b-a7d3-d9133d718d06",
   "metadata": {},
   "outputs": [
    {
     "data": {
      "text/plain": [
       "{'whiskers': [<matplotlib.lines.Line2D at 0x244a4557830>,\n",
       "  <matplotlib.lines.Line2D at 0x244a4557ad0>],\n",
       " 'caps': [<matplotlib.lines.Line2D at 0x244a4557dd0>,\n",
       "  <matplotlib.lines.Line2D at 0x244a4578110>],\n",
       " 'boxes': [<matplotlib.lines.Line2D at 0x244a45575f0>],\n",
       " 'medians': [<matplotlib.lines.Line2D at 0x244a4578410>],\n",
       " 'fliers': [<matplotlib.lines.Line2D at 0x244a4578710>],\n",
       " 'means': []}"
      ]
     },
     "execution_count": 24,
     "metadata": {},
     "output_type": "execute_result"
    },
    {
     "data": {
      "image/png": "[encoded data removed]",
      "text/plain": [
       "<Figure size 640x480 with 1 Axes>"
      ]
     },
     "metadata": {},
     "output_type": "display_data"
    }
   ],
   "source": [
    "plt.boxplot(df[\"Expenses\"])"
   ]
  },
  {
   "cell_type": "code",
   "execution_count": null,
   "id": "a37ef519-8a33-4f70-8463-5aefe29018ee",
   "metadata": {},
   "outputs": [],
   "source": []
  },
  {
   "cell_type": "code",
   "execution_count": null,
   "id": "1dee3125-1976-4087-a537-48c0aecca8e1",
   "metadata": {},
   "outputs": [],
   "source": []
  }
 ],
 "metadata": {
  "kernelspec": {
   "display_name": "Python 3 (ipykernel)",
   "language": "python",
   "name": "python3"
  },
  "language_info": {
   "codemirror_mode": {
    "name": "ipython",
    "version": 3
   },
   "file_extension": ".py",
   "mimetype": "text/x-python",
   "name": "python",
   "nbconvert_exporter": "python",
   "pygments_lexer": "ipython3",
   "version": "3.12.7"
  }
 },
 "nbformat": 4,
 "nbformat_minor": 5
}
