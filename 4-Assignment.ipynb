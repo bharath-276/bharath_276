{
 "cells": [
  {
   "cell_type": "code",
   "execution_count": 1,
   "id": "084798d1-e823-4fd0-92d2-d13eb7f8dcf4",
   "metadata": {},
   "outputs": [
    {
     "name": "stdin",
     "output_type": "stream",
     "text": [
      "Enter a positive integer:  2\n"
     ]
    },
    {
     "name": "stdout",
     "output_type": "stream",
     "text": [
      "The sum of all even numbers between 1 and 2 is: 2\n"
     ]
    }
   ],
   "source": [
    "def sum_of_even_numbers(n):\n",
    "    total = 0\n",
    "    \n",
    "    for i in range(2, n + 1, 2):  \n",
    "        total += i\n",
    "    return total\n",
    "\n",
    "\n",
    "n = int(input(\"Enter a positive integer: \"))\n",
    "\n",
    "\n",
    "if n > 0:\n",
    "    result = sum_of_even_numbers(n)\n",
    "    print(f\"The sum of all even numbers between 1 and {n} is: {result}\")\n",
    "else:\n",
    "    print(\"Please enter a positive integer.\")\n"
   ]
  },
  {
   "cell_type": "code",
   "execution_count": null,
   "id": "2655c6a6-49c4-4428-91e0-9776127ce780",
   "metadata": {},
   "outputs": [],
   "source": []
  }
 ],
 "metadata": {
  "kernelspec": {
   "display_name": "Python 3 (ipykernel)",
   "language": "python",
   "name": "python3"
  },
  "language_info": {
   "codemirror_mode": {
    "name": "ipython",
    "version": 3
   },
   "file_extension": ".py",
   "mimetype": "text/x-python",
   "name": "python",
   "nbconvert_exporter": "python",
   "pygments_lexer": "ipython3",
   "version": "3.12.7"
  }
 },
 "nbformat": 4,
 "nbformat_minor": 5
}
